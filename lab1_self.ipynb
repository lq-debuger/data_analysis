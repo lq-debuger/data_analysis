{
 "cells": [
  {
   "cell_type": "code",
   "execution_count": 17,
   "metadata": {},
   "outputs": [],
   "source": [
    "import matplotlib.pyplot as plt\n",
    "import numpy as np\n",
    "from sklearn.model_selection import train_test_split\n",
    "from sklearn.linear_model import LogisticRegression\n",
    "%matplotlib inline"
   ]
  },
  {
   "cell_type": "markdown",
   "metadata": {},
   "source": [
    "## 提取数据"
   ]
  },
  {
   "cell_type": "code",
   "execution_count": 18,
   "metadata": {},
   "outputs": [],
   "source": [
    "train_data = np.loadtxt(\"./Genomic Dataset/train.data\", delimiter=\" \", dtype=\"object\", usecols=(1,2))\n",
    "test_data = np.loadtxt(\"./Genomic Dataset/test.data\", delimiter=\" \", dtype=\"object\", usecols=(1,2))"
   ]
  },
  {
   "cell_type": "code",
   "execution_count": 19,
   "metadata": {},
   "outputs": [
    {
     "data": {
      "text/plain": [
       "(19383, 2)"
      ]
     },
     "execution_count": 19,
     "metadata": {},
     "output_type": "execute_result"
    }
   ],
   "source": [
    "target_ = np.array([list(instance) for instance in train_data[:,1]])\n",
    "test_ = np.array([list(instance) for instance in test_data[:,1]])\n",
    "test_data.shape"
   ]
  },
  {
   "cell_type": "markdown",
   "metadata": {},
   "source": [
    "## 提取特征\n",
    "- 找到每个数据中不同字母出现的次数"
   ]
  },
  {
   "cell_type": "code",
   "execution_count": 20,
   "metadata": {},
   "outputs": [],
   "source": [
    "dataTrain = np.zeros([77531,5])\n",
    "testTrain = np.zeros([19383,5])"
   ]
  },
  {
   "cell_type": "code",
   "execution_count": 21,
   "metadata": {},
   "outputs": [],
   "source": [
    "for i in range(0,77531):\n",
    "    dataTrain[i,0] = train_data[i,0].count('T')\n",
    "    dataTrain[i,1] = train_data[i,0].count('A')\n",
    "    dataTrain[i,2] = train_data[i,0].count('C')\n",
    "    dataTrain[i,3] = train_data[i,0].count('G')\n",
    "    dataTrain[i,4] = target_[i]\n",
    "\n",
    "for i in range(0,19383):\n",
    "    testTrain[i,0] = test_data[i,0].count('T')\n",
    "    testTrain[i,1] = test_data[i,0].count('A')\n",
    "    testTrain[i,2] = test_data[i,0].count('C')\n",
    "    testTrain[i,3] = test_data[i,0].count('G')\n",
    "    testTrain[i,4] = test_[i]\n",
    "\n",
    "        "
   ]
  },
  {
   "cell_type": "code",
   "execution_count": 22,
   "metadata": {},
   "outputs": [
    {
     "data": {
      "text/plain": [
       "array([17., 27., 25., 32.,  1.])"
      ]
     },
     "execution_count": 22,
     "metadata": {},
     "output_type": "execute_result"
    }
   ],
   "source": [
    "testTrain[0,:]"
   ]
  },
  {
   "cell_type": "markdown",
   "metadata": {},
   "source": [
    "## 训练数据"
   ]
  },
  {
   "cell_type": "code",
   "execution_count": 23,
   "metadata": {},
   "outputs": [],
   "source": [
    "clf = LogisticRegression(random_state=0).fit(dataTrain[:,0:3],dataTrain[:,4])"
   ]
  },
  {
   "cell_type": "code",
   "execution_count": 24,
   "metadata": {},
   "outputs": [
    {
     "data": {
      "text/plain": [
       "0.49275138007532376"
      ]
     },
     "execution_count": 24,
     "metadata": {},
     "output_type": "execute_result"
    }
   ],
   "source": [
    "clf.score(testTrain[:,0:3],testTrain[:,4])"
   ]
  }
 ],
 "metadata": {
  "interpreter": {
   "hash": "40d3a090f54c6569ab1632332b64b2c03c39dcf918b08424e98f38b5ae0af88f"
  },
  "kernelspec": {
   "display_name": "Python 3.9.7 ('base')",
   "language": "python",
   "name": "python3"
  },
  "language_info": {
   "codemirror_mode": {
    "name": "ipython",
    "version": 3
   },
   "file_extension": ".py",
   "mimetype": "text/x-python",
   "name": "python",
   "nbconvert_exporter": "python",
   "pygments_lexer": "ipython3",
   "version": "3.9.7"
  },
  "orig_nbformat": 4
 },
 "nbformat": 4,
 "nbformat_minor": 2
}
